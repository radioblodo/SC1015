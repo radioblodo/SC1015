{
 "cells": [
  {
   "cell_type": "markdown",
   "id": "baa9b614",
   "metadata": {},
   "source": [
    "# 1. Libraries and Packages"
   ]
  },
  {
   "cell_type": "code",
   "execution_count": 1,
   "id": "664d7401",
   "metadata": {},
   "outputs": [],
   "source": [
    "# import general packages - numpy,pandas,seaborn,matplotlib\n",
    "import numpy as np\n",
    "import pandas as pd\n",
    "import seaborn as sb\n",
    "import matplotlib.pyplot as plt\n",
    "sb.set\n",
    "\n",
    "# Import LinearRegression model from Scikit-Learn\n",
    "from sklearn.linear_model import LinearRegression\n",
    "\n",
    "# Create a Linear Regression object\n",
    "linreg = LinearRegression()\n",
    "\n",
    "from sklearn.linear_model import LogisticRegression\n",
    "from sklearn.neighbors import KNeighborsClassifier\n",
    "from sklearn.metrics import accuracy_score, confusion_matrix, classification_report\n",
    "from sklearn.model_selection import cross_val_score\n",
    "from sklearn.model_selection import train_test_split\n",
    "from sklearn.metrics import mean_squared_error\n",
    "from scipy import stats\n",
    "\n",
    "from sklearn.preprocessing import StandardScaler\n",
    "from sklearn.model_selection import train_test_split\n",
    "from sklearn.naive_bayes import GaussianNB"
   ]
  },
  {
   "cell_type": "code",
   "execution_count": 2,
   "id": "35974c55",
   "metadata": {},
   "outputs": [],
   "source": [
    "from warnings import simplefilter\n",
    "simplefilter(action='ignore', category=FutureWarning)"
   ]
  },
  {
   "cell_type": "markdown",
   "id": "ef12ccd5",
   "metadata": {},
   "source": [
    "# 2. Import Cleaned Dataset"
   ]
  },
  {
   "cell_type": "code",
   "execution_count": 3,
   "id": "74997cef",
   "metadata": {},
   "outputs": [
    {
     "data": {
      "text/html": [
       "<div>\n",
       "<style scoped>\n",
       "    .dataframe tbody tr th:only-of-type {\n",
       "        vertical-align: middle;\n",
       "    }\n",
       "\n",
       "    .dataframe tbody tr th {\n",
       "        vertical-align: top;\n",
       "    }\n",
       "\n",
       "    .dataframe thead th {\n",
       "        text-align: right;\n",
       "    }\n",
       "</style>\n",
       "<table border=\"1\" class=\"dataframe\">\n",
       "  <thead>\n",
       "    <tr style=\"text-align: right;\">\n",
       "      <th></th>\n",
       "      <th>sex</th>\n",
       "      <th>age</th>\n",
       "      <th>hypertension</th>\n",
       "      <th>heart_disease</th>\n",
       "      <th>ever_married</th>\n",
       "      <th>work_type</th>\n",
       "      <th>Residence_type</th>\n",
       "      <th>avg_glucose_level</th>\n",
       "      <th>bmi</th>\n",
       "      <th>smoking_status</th>\n",
       "      <th>stroke</th>\n",
       "    </tr>\n",
       "  </thead>\n",
       "  <tbody>\n",
       "    <tr>\n",
       "      <th>0</th>\n",
       "      <td>1.0</td>\n",
       "      <td>63</td>\n",
       "      <td>0</td>\n",
       "      <td>1</td>\n",
       "      <td>1</td>\n",
       "      <td>4</td>\n",
       "      <td>1</td>\n",
       "      <td>228.69</td>\n",
       "      <td>36.6</td>\n",
       "      <td>1</td>\n",
       "      <td>1</td>\n",
       "    </tr>\n",
       "    <tr>\n",
       "      <th>1</th>\n",
       "      <td>1.0</td>\n",
       "      <td>42</td>\n",
       "      <td>0</td>\n",
       "      <td>1</td>\n",
       "      <td>1</td>\n",
       "      <td>4</td>\n",
       "      <td>0</td>\n",
       "      <td>105.92</td>\n",
       "      <td>32.5</td>\n",
       "      <td>0</td>\n",
       "      <td>1</td>\n",
       "    </tr>\n",
       "    <tr>\n",
       "      <th>2</th>\n",
       "      <td>0.0</td>\n",
       "      <td>61</td>\n",
       "      <td>0</td>\n",
       "      <td>0</td>\n",
       "      <td>1</td>\n",
       "      <td>4</td>\n",
       "      <td>1</td>\n",
       "      <td>171.23</td>\n",
       "      <td>34.4</td>\n",
       "      <td>1</td>\n",
       "      <td>1</td>\n",
       "    </tr>\n",
       "    <tr>\n",
       "      <th>3</th>\n",
       "      <td>1.0</td>\n",
       "      <td>41</td>\n",
       "      <td>1</td>\n",
       "      <td>0</td>\n",
       "      <td>1</td>\n",
       "      <td>3</td>\n",
       "      <td>0</td>\n",
       "      <td>174.12</td>\n",
       "      <td>24.0</td>\n",
       "      <td>0</td>\n",
       "      <td>1</td>\n",
       "    </tr>\n",
       "    <tr>\n",
       "      <th>4</th>\n",
       "      <td>1.0</td>\n",
       "      <td>85</td>\n",
       "      <td>0</td>\n",
       "      <td>0</td>\n",
       "      <td>1</td>\n",
       "      <td>4</td>\n",
       "      <td>1</td>\n",
       "      <td>186.21</td>\n",
       "      <td>29.0</td>\n",
       "      <td>1</td>\n",
       "      <td>1</td>\n",
       "    </tr>\n",
       "  </tbody>\n",
       "</table>\n",
       "</div>"
      ],
      "text/plain": [
       "   sex  age  hypertension  heart_disease  ever_married  work_type  \\\n",
       "0  1.0   63             0              1             1          4   \n",
       "1  1.0   42             0              1             1          4   \n",
       "2  0.0   61             0              0             1          4   \n",
       "3  1.0   41             1              0             1          3   \n",
       "4  1.0   85             0              0             1          4   \n",
       "\n",
       "   Residence_type  avg_glucose_level   bmi  smoking_status  stroke  \n",
       "0               1             228.69  36.6               1       1  \n",
       "1               0             105.92  32.5               0       1  \n",
       "2               1             171.23  34.4               1       1  \n",
       "3               0             174.12  24.0               0       1  \n",
       "4               1             186.21  29.0               1       1  "
      ]
     },
     "execution_count": 3,
     "metadata": {},
     "output_type": "execute_result"
    }
   ],
   "source": [
    "#Import the data set\n",
    "traindata = pd.read_csv('cleaned_data.csv')\n",
    "traindata.head()"
   ]
  },
  {
   "cell_type": "markdown",
   "id": "925b5996",
   "metadata": {},
   "source": [
    "# 3. Model 4: Gaussian Naive Bayes Model"
   ]
  },
  {
   "cell_type": "markdown",
   "id": "0ca52589",
   "metadata": {},
   "source": [
    "## Background Information about Gaussian Naive Bayes Model: "
   ]
  },
  {
   "cell_type": "markdown",
   "id": "c320bf06",
   "metadata": {},
   "source": [
    "Gaussian Naive Bayes is a probabilistic machine learning algorithm used for classification tasks. It is a variant of the Naive Bayes algorithm, which is based on the Bayes' theorem and the assumption of independence among the features.\n",
    "\n",
    "In Gaussian Naive Bayes, the assumption is made that the continuous input features are normally distributed. This means that the probability density function of each feature follows a Gaussian (normal) distribution. This assumption simplifies the calculations of the posterior probabilities and reduces the complexity of the algorithm.\n",
    "\n",
    "The algorithm works by calculating the probability of a given instance belonging to a particular class based on the values of its features. It does this by calculating the prior probability of each class and the likelihood of the features given the class. The posterior probability of each class is then calculated by multiplying the prior probability by the likelihood and normalizing the result.\n",
    "\n",
    "The algorithm is called \"naive\" because it assumes that all the features are independent of each other, which is not always true in practice. Despite this assumption, Gaussian Naive Bayes has been found to perform well in many real-world applications, especially when the number of features is large relative to the size of the training data.\n",
    "\n",
    "One of the advantages of Gaussian Naive Bayes is that it requires a small amount of training data compared to other algorithms. It is also computationally efficient and can be trained quickly. However, it may not perform well if the assumption of normality is not met or if there is strong correlation among the features."
   ]
  },
  {
   "cell_type": "markdown",
   "id": "25ad067a",
   "metadata": {},
   "source": [
    "### Step 1: Separate predictors and responses "
   ]
  },
  {
   "cell_type": "code",
   "execution_count": 4,
   "id": "2561e091",
   "metadata": {},
   "outputs": [],
   "source": [
    "#Splitting the data into input data features and target \n",
    "predictors = traindata.drop('stroke',axis=1)\n",
    "stroke = traindata['stroke']"
   ]
  },
  {
   "cell_type": "markdown",
   "id": "b5c3fa84",
   "metadata": {},
   "source": [
    "### Step 2: Split the dataset into training and testing datasets in 8:2 ratio "
   ]
  },
  {
   "cell_type": "code",
   "execution_count": 5,
   "id": "aed19301",
   "metadata": {},
   "outputs": [],
   "source": [
    "# Split the Dataset into Train and Test\n",
    "stroke_train, stroke_test, predictors_train, predictors_test = train_test_split(stroke, predictors, test_size = 0.2, random_state = 42)"
   ]
  },
  {
   "cell_type": "code",
   "execution_count": 6,
   "id": "b257bd02",
   "metadata": {},
   "outputs": [
    {
     "name": "stdout",
     "output_type": "stream",
     "text": [
      "Accuracy: 0.6681762545899633\n"
     ]
    }
   ],
   "source": [
    "#Create the Naive Bayes classifier\n",
    "nb = GaussianNB()\n",
    "\n",
    "# Train the classifier on the training data\n",
    "nb.fit(predictors_train, stroke_train)\n",
    "\n",
    "# Predict the classes of the test data\n",
    "stroke_prediction = nb.predict(predictors_test)\n",
    "\n",
    "# Calculate the accuracy of the classifier\n",
    "accuracy = accuracy_score(stroke_test, stroke_prediction)\n",
    "print('Accuracy:', accuracy)"
   ]
  },
  {
   "cell_type": "markdown",
   "id": "f0659872",
   "metadata": {},
   "source": [
    "### Step 3: Compute the accuracy of Gaussian Naive Bayes Model"
   ]
  },
  {
   "cell_type": "code",
   "execution_count": 7,
   "id": "f54bbbae",
   "metadata": {},
   "outputs": [
    {
     "name": "stdout",
     "output_type": "stream",
     "text": [
      "              precision    recall  f1-score   support\n",
      "\n",
      "           0    0.63324   0.78995   0.70297      4061\n",
      "           1    0.72519   0.54782   0.62415      4109\n",
      "\n",
      "    accuracy                        0.66818      8170\n",
      "   macro avg    0.67922   0.66889   0.66356      8170\n",
      "weighted avg    0.67949   0.66818   0.66333      8170\n",
      "\n"
     ]
    },
    {
     "data": {
      "image/png": "[encoded data removed]",
      "text/plain": [
       "<Figure size 640x480 with 2 Axes>"
      ]
     },
     "metadata": {},
     "output_type": "display_data"
    }
   ],
   "source": [
    "cm = confusion_matrix(stroke_test, stroke_prediction)\n",
    "sb.heatmap(cm, annot=True, cmap='Greens')\n",
    "\n",
    "# Create a classification report\n",
    "cr = classification_report(stroke_test, stroke_prediction, digits = 5)\n",
    "print(cr)"
   ]
  },
  {
   "cell_type": "markdown",
   "id": "33adebe4",
   "metadata": {},
   "source": [
    "# 4. Optimisation of Gaussian Naive Bayes Model "
   ]
  },
  {
   "cell_type": "markdown",
   "id": "33f2afd8",
   "metadata": {},
   "source": [
    "Hyperparameters in a Gaussian Naive Bayes model refer to the configuration settings that are not learned from data but must be set before training the model. Hyperparameters can affect the model's ability to fit the training data and its generalization performance on new, unseen data."
   ]
  },
  {
   "cell_type": "markdown",
   "id": "c2031a25",
   "metadata": {},
   "source": [
    "We have decided to use smoothing parameter to avoid the problem of zero probabilities when a feature does not appear in the training dataset for a given class. The most commonly used smoothing method is Laplace smoothing, which adds a small constant to all feature counts. By fine-tuning the smoothing parameter, we can prevent overfitting and improve the model's generalization performance. "
   ]
  },
  {
   "cell_type": "markdown",
   "id": "98a42d42",
   "metadata": {},
   "source": [
    "### Step 1: Insert smoothing parameters "
   ]
  },
  {
   "cell_type": "code",
   "execution_count": 8,
   "id": "3730f838",
   "metadata": {},
   "outputs": [
    {
     "name": "stdout",
     "output_type": "stream",
     "text": [
      "Accuracy Score:  0.6741738066095472\n"
     ]
    }
   ],
   "source": [
    "from sklearn.preprocessing import PowerTransformer\n",
    "from sklearn.naive_bayes import GaussianNB\n",
    "from sklearn.model_selection import GridSearchCV\n",
    "from sklearn.model_selection import RepeatedStratifiedKFold\n",
    "from sklearn.feature_selection import SelectKBest, chi2\n",
    "from sklearn.pipeline import make_pipeline\n",
    "from sklearn.metrics import accuracy_score\n",
    "\n",
    "# Define the hyperparameters to tune\n",
    "parameters = {\n",
    "    'var_smoothing': np.logspace(0,-9,num=100)\n",
    "}\n",
    "\n",
    "# Perform Grid Search CV to find the best hyperparameters\n",
    "grid_search = GridSearchCV(nb, parameters, scoring='roc_auc', cv=10, n_jobs=-1)\n",
    "grid_search.fit(predictors_train, stroke_train)\n",
    "\n",
    "\n",
    "# Make predictions on the test set using the best model\n",
    "stroke_pred = grid_search.predict(predictors_test)\n",
    "\n",
    "# Calculate the accuracy score\n",
    "accuracy = accuracy_score(stroke_test, stroke_pred)\n",
    "print(\"Accuracy Score: \", accuracy)"
   ]
  },
  {
   "cell_type": "markdown",
   "id": "5b9c56a0",
   "metadata": {},
   "source": [
    "### Step 2: Recompute accuracy of the optimised model"
   ]
  },
  {
   "cell_type": "code",
   "execution_count": 9,
   "id": "5882c601",
   "metadata": {},
   "outputs": [
    {
     "name": "stdout",
     "output_type": "stream",
     "text": [
      "              precision    recall  f1-score   support\n",
      "\n",
      "           0    0.64123   0.78207   0.70468      4061\n",
      "           1    0.72490   0.56753   0.63664      4109\n",
      "\n",
      "    accuracy                        0.67417      8170\n",
      "   macro avg    0.68306   0.67480   0.67066      8170\n",
      "weighted avg    0.68331   0.67417   0.67046      8170\n",
      "\n"
     ]
    },
    {
     "data": {
      "image/png": "[encoded data removed]",
      "text/plain": [
       "<Figure size 640x480 with 2 Axes>"
      ]
     },
     "metadata": {},
     "output_type": "display_data"
    }
   ],
   "source": [
    "cm = confusion_matrix(stroke_test, stroke_pred)\n",
    "sb.heatmap(cm, annot=True, cmap='Greens')\n",
    "\n",
    "# Create a classification report\n",
    "cr = classification_report(stroke_test, stroke_pred, digits=5)\n",
    "print(cr)"
   ]
  },
  {
   "cell_type": "code",
   "execution_count": null,
   "id": "d6faa70a",
   "metadata": {},
   "outputs": [],
   "source": []
  }
 ],
 "metadata": {
  "kernelspec": {
   "display_name": "Python 3 (ipykernel)",
   "language": "python",
   "name": "python3"
  },
  "language_info": {
   "codemirror_mode": {
    "name": "ipython",
    "version": 3
   },
   "file_extension": ".py",
   "mimetype": "text/x-python",
   "name": "python",
   "nbconvert_exporter": "python",
   "pygments_lexer": "ipython3",
   "version": "3.9.13"
  }
 },
 "nbformat": 4,
 "nbformat_minor": 5
}
