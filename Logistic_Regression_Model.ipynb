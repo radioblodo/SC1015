{
 "cells": [
  {
   "cell_type": "markdown",
   "id": "d5ca9278",
   "metadata": {},
   "source": [
    "# 1. Libraries and Packages"
   ]
  },
  {
   "cell_type": "code",
   "execution_count": 1,
   "id": "7b389134",
   "metadata": {},
   "outputs": [],
   "source": [
    "# import general packages - numpy,pandas,seaborn,matplotlib\n",
    "import numpy as np\n",
    "import pandas as pd\n",
    "import seaborn as sb\n",
    "import matplotlib.pyplot as plt\n",
    "sb.set\n",
    "\n",
    "# Import LinearRegression model from Scikit-Learn\n",
    "from sklearn.linear_model import LinearRegression\n",
    "\n",
    "# Create a Linear Regression object\n",
    "linreg = LinearRegression()\n",
    "\n",
    "from sklearn.linear_model import LogisticRegression\n",
    "from sklearn.neighbors import KNeighborsClassifier\n",
    "from sklearn.metrics import accuracy_score, confusion_matrix, classification_report\n",
    "from sklearn.model_selection import cross_val_score\n",
    "from sklearn.model_selection import train_test_split\n",
    "from sklearn.metrics import mean_squared_error\n",
    "from scipy import stats\n",
    "\n",
    "from sklearn.preprocessing import StandardScaler\n",
    "from sklearn.model_selection import train_test_split\n",
    "from sklearn.naive_bayes import GaussianNB\n",
    "import warnings\n",
    "warnings.filterwarnings('ignore')"
   ]
  },
  {
   "cell_type": "markdown",
   "id": "72f715b3",
   "metadata": {},
   "source": [
    "# 2. Import Cleaned Dataset"
   ]
  },
  {
   "cell_type": "code",
   "execution_count": 2,
   "id": "a7044704",
   "metadata": {},
   "outputs": [
    {
     "data": {
      "text/html": [
       "<div>\n",
       "<style scoped>\n",
       "    .dataframe tbody tr th:only-of-type {\n",
       "        vertical-align: middle;\n",
       "    }\n",
       "\n",
       "    .dataframe tbody tr th {\n",
       "        vertical-align: top;\n",
       "    }\n",
       "\n",
       "    .dataframe thead th {\n",
       "        text-align: right;\n",
       "    }\n",
       "</style>\n",
       "<table border=\"1\" class=\"dataframe\">\n",
       "  <thead>\n",
       "    <tr style=\"text-align: right;\">\n",
       "      <th></th>\n",
       "      <th>sex</th>\n",
       "      <th>age</th>\n",
       "      <th>hypertension</th>\n",
       "      <th>heart_disease</th>\n",
       "      <th>ever_married</th>\n",
       "      <th>work_type</th>\n",
       "      <th>Residence_type</th>\n",
       "      <th>avg_glucose_level</th>\n",
       "      <th>bmi</th>\n",
       "      <th>smoking_status</th>\n",
       "      <th>stroke</th>\n",
       "    </tr>\n",
       "  </thead>\n",
       "  <tbody>\n",
       "    <tr>\n",
       "      <th>0</th>\n",
       "      <td>1.0</td>\n",
       "      <td>63</td>\n",
       "      <td>0</td>\n",
       "      <td>1</td>\n",
       "      <td>1</td>\n",
       "      <td>4</td>\n",
       "      <td>1</td>\n",
       "      <td>228.69</td>\n",
       "      <td>36.6</td>\n",
       "      <td>1</td>\n",
       "      <td>1</td>\n",
       "    </tr>\n",
       "    <tr>\n",
       "      <th>1</th>\n",
       "      <td>1.0</td>\n",
       "      <td>42</td>\n",
       "      <td>0</td>\n",
       "      <td>1</td>\n",
       "      <td>1</td>\n",
       "      <td>4</td>\n",
       "      <td>0</td>\n",
       "      <td>105.92</td>\n",
       "      <td>32.5</td>\n",
       "      <td>0</td>\n",
       "      <td>1</td>\n",
       "    </tr>\n",
       "    <tr>\n",
       "      <th>2</th>\n",
       "      <td>0.0</td>\n",
       "      <td>61</td>\n",
       "      <td>0</td>\n",
       "      <td>0</td>\n",
       "      <td>1</td>\n",
       "      <td>4</td>\n",
       "      <td>1</td>\n",
       "      <td>171.23</td>\n",
       "      <td>34.4</td>\n",
       "      <td>1</td>\n",
       "      <td>1</td>\n",
       "    </tr>\n",
       "    <tr>\n",
       "      <th>3</th>\n",
       "      <td>1.0</td>\n",
       "      <td>41</td>\n",
       "      <td>1</td>\n",
       "      <td>0</td>\n",
       "      <td>1</td>\n",
       "      <td>3</td>\n",
       "      <td>0</td>\n",
       "      <td>174.12</td>\n",
       "      <td>24.0</td>\n",
       "      <td>0</td>\n",
       "      <td>1</td>\n",
       "    </tr>\n",
       "    <tr>\n",
       "      <th>4</th>\n",
       "      <td>1.0</td>\n",
       "      <td>85</td>\n",
       "      <td>0</td>\n",
       "      <td>0</td>\n",
       "      <td>1</td>\n",
       "      <td>4</td>\n",
       "      <td>1</td>\n",
       "      <td>186.21</td>\n",
       "      <td>29.0</td>\n",
       "      <td>1</td>\n",
       "      <td>1</td>\n",
       "    </tr>\n",
       "  </tbody>\n",
       "</table>\n",
       "</div>"
      ],
      "text/plain": [
       "   sex  age  hypertension  heart_disease  ever_married  work_type  \\\n",
       "0  1.0   63             0              1             1          4   \n",
       "1  1.0   42             0              1             1          4   \n",
       "2  0.0   61             0              0             1          4   \n",
       "3  1.0   41             1              0             1          3   \n",
       "4  1.0   85             0              0             1          4   \n",
       "\n",
       "   Residence_type  avg_glucose_level   bmi  smoking_status  stroke  \n",
       "0               1             228.69  36.6               1       1  \n",
       "1               0             105.92  32.5               0       1  \n",
       "2               1             171.23  34.4               1       1  \n",
       "3               0             174.12  24.0               0       1  \n",
       "4               1             186.21  29.0               1       1  "
      ]
     },
     "execution_count": 2,
     "metadata": {},
     "output_type": "execute_result"
    }
   ],
   "source": [
    "#Import the data set\n",
    "traindata = pd.read_csv('cleaned_data.csv')\n",
    "traindata.head()"
   ]
  },
  {
   "cell_type": "markdown",
   "id": "4847204f",
   "metadata": {},
   "source": [
    "# 3. Model 2: Logistic Regression Model "
   ]
  },
  {
   "cell_type": "markdown",
   "id": "5dcb3aa6",
   "metadata": {},
   "source": [
    "## Background Information about Logistic Regression Model:"
   ]
  },
  {
   "cell_type": "markdown",
   "id": "4f320472",
   "metadata": {},
   "source": [
    "Logistic regression is a statistical model that is used to analyze the relationship between a binary dependent variable and one or more independent variables. The dependent variable takes only two possible values, such as 0 or 1, true or false, yes or no, etc. \n",
    "\n",
    "In logistic regression, the dependent variable is modeled using a logistic function, which produces an S-shaped curve that maps any input value to a value between 0 and 1. This allows the model to estimate the probability of the dependent variable being true (1) or false (0) based on the values of the independent variables.\n",
    "\n",
    "Logistic regression is commonly used in many fields, including finance, marketing, and healthcare, to predict the likelihood of an event occurring or to identify the factors that are most strongly associated with an outcome.\n",
    "\n",
    "In this case, we have decided to use Logistic Regression Model to analyse the likelihood of someone getting stroke given the 8 factors. "
   ]
  },
  {
   "cell_type": "markdown",
   "id": "484cabd3",
   "metadata": {},
   "source": [
    "### Step 1: Separate predictors and responses"
   ]
  },
  {
   "cell_type": "code",
   "execution_count": 3,
   "id": "845ac32c",
   "metadata": {},
   "outputs": [],
   "source": [
    "stroke = pd.DataFrame(traindata[\"stroke\"])\n",
    "predictors = pd.DataFrame(traindata[[\"sex\", \"age\", \"hypertension\", \"heart_disease\", \"ever_married\", \"avg_glucose_level\", \"bmi\", \"smoking_status\"]])"
   ]
  },
  {
   "cell_type": "markdown",
   "id": "1bdcd5b6",
   "metadata": {},
   "source": [
    "### Step 2: Split the dataset into training and testing datasets in 8:2 ratio "
   ]
  },
  {
   "cell_type": "code",
   "execution_count": 4,
   "id": "a8972a7f",
   "metadata": {},
   "outputs": [],
   "source": [
    "# Split the Dataset into Train and Test\n",
    "stroke_train, stroke_test, predictors_train, predictors_test = train_test_split(stroke, predictors, test_size = 0.2, random_state = 42)"
   ]
  },
  {
   "cell_type": "code",
   "execution_count": 5,
   "id": "921d6f35",
   "metadata": {},
   "outputs": [
    {
     "name": "stdout",
     "output_type": "stream",
     "text": [
      "Accuracy: 0.6835985312117503\n"
     ]
    }
   ],
   "source": [
    "# Import necessary libraries\n",
    "from sklearn.model_selection import train_test_split\n",
    "from sklearn.linear_model import LogisticRegression\n",
    "from sklearn.metrics import accuracy_score\n",
    "\n",
    "# Create a logistic regression model and fit it to the training data\n",
    "logreg = LogisticRegression(max_iter=1000)\n",
    "logreg.fit(predictors_train, stroke_train)\n",
    "\n",
    "# Use the model to make predictions on the testing data\n",
    "stroke_pred = logreg.predict(predictors_test)\n",
    "\n",
    "# Calculate the accuracy of the model\n",
    "accuracy = accuracy_score(stroke_test, stroke_pred)\n",
    "print('Accuracy:', accuracy)"
   ]
  },
  {
   "cell_type": "code",
   "execution_count": 6,
   "id": "76e268c8",
   "metadata": {},
   "outputs": [
    {
     "name": "stdout",
     "output_type": "stream",
     "text": [
      "              precision    recall  f1-score   support\n",
      "\n",
      "           0    0.66002   0.74957   0.70195      4061\n",
      "           1    0.71417   0.61840   0.66284      4109\n",
      "\n",
      "    accuracy                        0.68360      8170\n",
      "   macro avg    0.68709   0.68398   0.68239      8170\n",
      "weighted avg    0.68725   0.68360   0.68228      8170\n",
      "\n"
     ]
    },
    {
     "data": {
      "image/png": "[encoded data removed]",
      "text/plain": [
       "<Figure size 640x480 with 2 Axes>"
      ]
     },
     "metadata": {},
     "output_type": "display_data"
    }
   ],
   "source": [
    "cm = confusion_matrix(stroke_test, stroke_pred)\n",
    "sb.heatmap(cm, annot=True, cmap='Reds')\n",
    "\n",
    "# Create a classification report\n",
    "cr = classification_report(stroke_test, stroke_pred, digits=5)\n",
    "print(cr)"
   ]
  },
  {
   "cell_type": "markdown",
   "id": "be539505",
   "metadata": {},
   "source": [
    "# 4. Optimisation of Logistic Regression Model"
   ]
  },
  {
   "cell_type": "code",
   "execution_count": 7,
   "id": "30e48a07",
   "metadata": {},
   "outputs": [],
   "source": [
    "param_grid = [    \n",
    "    {'penalty' : ['l2'],\n",
    "    'C' : [100, 200, 500],\n",
    "    'solver' : ['lbfgs','sag','saga', 'liblinear'],\n",
    "    'max_iter' : [100,500]\n",
    "    }\n",
    "]"
   ]
  },
  {
   "cell_type": "code",
   "execution_count": 8,
   "id": "e5504e97",
   "metadata": {},
   "outputs": [
    {
     "name": "stdout",
     "output_type": "stream",
     "text": [
      "Fitting 3 folds for each of 24 candidates, totalling 72 fits\n",
      "Accuracy - : 0.684\n"
     ]
    }
   ],
   "source": [
    "from sklearn.model_selection import GridSearchCV\n",
    "clf = GridSearchCV(logreg, param_grid = param_grid, cv = 3, verbose=True, n_jobs=-1)\n",
    "best_clf = clf.fit(predictors_train,stroke_train)\n",
    "\n",
    "print (f'Accuracy - : {best_clf.score(predictors_test,stroke_test):.3f}')"
   ]
  },
  {
   "cell_type": "code",
   "execution_count": 9,
   "id": "deee2029",
   "metadata": {},
   "outputs": [
    {
     "data": {
      "text/plain": [
       "LogisticRegression(C=100, max_iter=500)"
      ]
     },
     "execution_count": 9,
     "metadata": {},
     "output_type": "execute_result"
    }
   ],
   "source": [
    "best_clf.best_estimator_"
   ]
  },
  {
   "cell_type": "code",
   "execution_count": 10,
   "id": "74cb1d1f",
   "metadata": {},
   "outputs": [
    {
     "name": "stdout",
     "output_type": "stream",
     "text": [
      "              precision    recall  f1-score   support\n",
      "\n",
      "           0    0.66017   0.75055   0.70247      4061\n",
      "           1    0.71489   0.61816   0.66301      4109\n",
      "\n",
      "    accuracy                        0.68397      8170\n",
      "   macro avg    0.68753   0.68435   0.68274      8170\n",
      "weighted avg    0.68769   0.68397   0.68262      8170\n",
      "\n"
     ]
    },
    {
     "data": {
      "image/png": "[encoded data removed]",
      "text/plain": [
       "<Figure size 640x480 with 2 Axes>"
      ]
     },
     "metadata": {},
     "output_type": "display_data"
    }
   ],
   "source": [
    "stroke_pred = best_clf.predict(predictors_test)\n",
    "\n",
    "cm = confusion_matrix(stroke_test, stroke_pred)\n",
    "sb.heatmap(cm, annot=True, cmap='Reds')\n",
    "\n",
    "# Create a classification report\n",
    "cr = classification_report(stroke_test, stroke_pred, digits=5)\n",
    "print(cr)"
   ]
  },
  {
   "cell_type": "markdown",
   "id": "fd05a3b2",
   "metadata": {},
   "source": [
    "# 5. Final Note on Logistic Regression Model"
   ]
  },
  {
   "cell_type": "markdown",
   "id": "e6060196",
   "metadata": {},
   "source": [
    "By finding out the hyperparameters for Logistic Regression Model, we have improved the accuracy of the model from 0.6835 to 0.684, a very small improvement from the previous model. While it is true that the accuracy of the model has improved, we feel that the improvement is not justified by the amount of computing power required to improve the classification algorithm. \n",
    "\n",
    "Moreover, this model might not work well for other scenarios where there are categorical variables with many categories because the model might become overly complex and overfit the data, leading to inaccurate predictions. "
   ]
  }
 ],
 "metadata": {
  "kernelspec": {
   "display_name": "Python 3 (ipykernel)",
   "language": "python",
   "name": "python3"
  },
  "language_info": {
   "codemirror_mode": {
    "name": "ipython",
    "version": 3
   },
   "file_extension": ".py",
   "mimetype": "text/x-python",
   "name": "python",
   "nbconvert_exporter": "python",
   "pygments_lexer": "ipython3",
   "version": "3.9.13"
  }
 },
 "nbformat": 4,
 "nbformat_minor": 5
}
