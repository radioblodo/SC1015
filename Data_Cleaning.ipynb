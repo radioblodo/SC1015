{
 "cells": [
  {
   "cell_type": "markdown",
   "id": "2e836f2e",
   "metadata": {},
   "source": [
    "# 1. Background Information of Dataset"
   ]
  },
  {
   "cell_type": "markdown",
   "id": "6d6d4b95",
   "metadata": {},
   "source": [
    "Features of dataset:\n",
    "\n",
    "1. sex: (0 represents female & 1 represents male)\n",
    "2. age: patient's age in years\n",
    "3. hypertension: (0 represents no history of hypertension & 1 represents history of hypertension)\n",
    "4. heart_disease: (0 represents no history of heart disease & 1 represents history of heart disease)\n",
    "5. ever_married: (0 represents that patient has not been married before & 1 represents patient has been married before)\n",
    "6. work_type: (0 represents never_worked, 1 represents children, 2 represents Govt-Job, 3 represents Self-Employed & 4 represents Private)\n",
    "7. Residence_type: (0 represents Rural & 1 represents Urban)\n",
    "8. avg_glucose_level: (numeric data to represent the average patient's glucose level)\n",
    "9. bmi: (numeric data to represent Body Mass Index)\n",
    "10. smoking_status: (0 represents never smoked & 1 represents smokes)\n",
    "\n",
    "40910 rows of data but there are 3 missing values for 'sex', after data cleaning, we are left with 40907 rows of data\n",
    "We further removed rows where there are negative values for 'age'."
   ]
  },
  {
   "cell_type": "code",
   "execution_count": 1,
   "id": "9c4f91da",
   "metadata": {},
   "outputs": [],
   "source": [
    "from warnings import simplefilter\n",
    "simplefilter(action='ignore', category=FutureWarning)"
   ]
  },
  {
   "cell_type": "markdown",
   "id": "2876775e",
   "metadata": {},
   "source": [
    "# 2. Libraries and Packages"
   ]
  },
  {
   "cell_type": "code",
   "execution_count": 2,
   "id": "16db1759",
   "metadata": {},
   "outputs": [],
   "source": [
    "# Import general packages - numpy,pandas,seaborn,matplotlib\n",
    "import numpy as np\n",
    "import pandas as pd\n",
    "import seaborn as sb\n",
    "import matplotlib.pyplot as plt\n",
    "sb.set\n",
    "\n",
    "# Import LinearRegression model from Scikit-Learn\n",
    "from sklearn.linear_model import LinearRegression\n",
    "\n",
    "# Create a Linear Regression object\n",
    "linreg = LinearRegression()\n",
    "\n",
    "from sklearn.linear_model import LogisticRegression\n",
    "from sklearn.neighbors import KNeighborsClassifier\n",
    "from sklearn.metrics import accuracy_score, confusion_matrix, classification_report\n",
    "from sklearn.model_selection import cross_val_score\n",
    "from sklearn.model_selection import train_test_split\n",
    "from sklearn.metrics import mean_squared_error\n",
    "from scipy import stats\n",
    "\n",
    "from sklearn.preprocessing import StandardScaler\n",
    "from sklearn.model_selection import train_test_split\n",
    "from sklearn.naive_bayes import GaussianNB"
   ]
  },
  {
   "cell_type": "markdown",
   "id": "dbfbe335",
   "metadata": {},
   "source": [
    "### Step 1: Import the csv file "
   ]
  },
  {
   "cell_type": "code",
   "execution_count": 3,
   "id": "70e138d4",
   "metadata": {},
   "outputs": [
    {
     "data": {
      "text/html": [
       "<div>\n",
       "<style scoped>\n",
       "    .dataframe tbody tr th:only-of-type {\n",
       "        vertical-align: middle;\n",
       "    }\n",
       "\n",
       "    .dataframe tbody tr th {\n",
       "        vertical-align: top;\n",
       "    }\n",
       "\n",
       "    .dataframe thead th {\n",
       "        text-align: right;\n",
       "    }\n",
       "</style>\n",
       "<table border=\"1\" class=\"dataframe\">\n",
       "  <thead>\n",
       "    <tr style=\"text-align: right;\">\n",
       "      <th></th>\n",
       "      <th>sex</th>\n",
       "      <th>age</th>\n",
       "      <th>hypertension</th>\n",
       "      <th>heart_disease</th>\n",
       "      <th>ever_married</th>\n",
       "      <th>work_type</th>\n",
       "      <th>Residence_type</th>\n",
       "      <th>avg_glucose_level</th>\n",
       "      <th>bmi</th>\n",
       "      <th>smoking_status</th>\n",
       "      <th>stroke</th>\n",
       "    </tr>\n",
       "  </thead>\n",
       "  <tbody>\n",
       "    <tr>\n",
       "      <th>0</th>\n",
       "      <td>1.0</td>\n",
       "      <td>63</td>\n",
       "      <td>0</td>\n",
       "      <td>1</td>\n",
       "      <td>1</td>\n",
       "      <td>4</td>\n",
       "      <td>1</td>\n",
       "      <td>228.69</td>\n",
       "      <td>36.6</td>\n",
       "      <td>1</td>\n",
       "      <td>1</td>\n",
       "    </tr>\n",
       "    <tr>\n",
       "      <th>1</th>\n",
       "      <td>1.0</td>\n",
       "      <td>42</td>\n",
       "      <td>0</td>\n",
       "      <td>1</td>\n",
       "      <td>1</td>\n",
       "      <td>4</td>\n",
       "      <td>0</td>\n",
       "      <td>105.92</td>\n",
       "      <td>32.5</td>\n",
       "      <td>0</td>\n",
       "      <td>1</td>\n",
       "    </tr>\n",
       "    <tr>\n",
       "      <th>2</th>\n",
       "      <td>0.0</td>\n",
       "      <td>61</td>\n",
       "      <td>0</td>\n",
       "      <td>0</td>\n",
       "      <td>1</td>\n",
       "      <td>4</td>\n",
       "      <td>1</td>\n",
       "      <td>171.23</td>\n",
       "      <td>34.4</td>\n",
       "      <td>1</td>\n",
       "      <td>1</td>\n",
       "    </tr>\n",
       "    <tr>\n",
       "      <th>3</th>\n",
       "      <td>1.0</td>\n",
       "      <td>41</td>\n",
       "      <td>1</td>\n",
       "      <td>0</td>\n",
       "      <td>1</td>\n",
       "      <td>3</td>\n",
       "      <td>0</td>\n",
       "      <td>174.12</td>\n",
       "      <td>24.0</td>\n",
       "      <td>0</td>\n",
       "      <td>1</td>\n",
       "    </tr>\n",
       "    <tr>\n",
       "      <th>4</th>\n",
       "      <td>1.0</td>\n",
       "      <td>85</td>\n",
       "      <td>0</td>\n",
       "      <td>0</td>\n",
       "      <td>1</td>\n",
       "      <td>4</td>\n",
       "      <td>1</td>\n",
       "      <td>186.21</td>\n",
       "      <td>29.0</td>\n",
       "      <td>1</td>\n",
       "      <td>1</td>\n",
       "    </tr>\n",
       "  </tbody>\n",
       "</table>\n",
       "</div>"
      ],
      "text/plain": [
       "   sex  age  hypertension  heart_disease  ever_married  work_type  \\\n",
       "0  1.0   63             0              1             1          4   \n",
       "1  1.0   42             0              1             1          4   \n",
       "2  0.0   61             0              0             1          4   \n",
       "3  1.0   41             1              0             1          3   \n",
       "4  1.0   85             0              0             1          4   \n",
       "\n",
       "   Residence_type  avg_glucose_level   bmi  smoking_status  stroke  \n",
       "0               1             228.69  36.6               1       1  \n",
       "1               0             105.92  32.5               0       1  \n",
       "2               1             171.23  34.4               1       1  \n",
       "3               0             174.12  24.0               0       1  \n",
       "4               1             186.21  29.0               1       1  "
      ]
     },
     "execution_count": 3,
     "metadata": {},
     "output_type": "execute_result"
    }
   ],
   "source": [
    "#Import the data set\n",
    "sourcedata = pd.read_csv('stroke_data.csv')\n",
    "sourcedata.head()"
   ]
  },
  {
   "cell_type": "markdown",
   "id": "dcf04882",
   "metadata": {},
   "source": [
    "# 3. Data Cleaning"
   ]
  },
  {
   "cell_type": "markdown",
   "id": "9a8aba87",
   "metadata": {},
   "source": [
    "### Step 1: Check the data type of the factors in the dataset"
   ]
  },
  {
   "cell_type": "code",
   "execution_count": 4,
   "id": "11b54d0d",
   "metadata": {},
   "outputs": [
    {
     "name": "stdout",
     "output_type": "stream",
     "text": [
      "<class 'pandas.core.frame.DataFrame'>\n",
      "RangeIndex: 40910 entries, 0 to 40909\n",
      "Data columns (total 11 columns):\n",
      " #   Column             Non-Null Count  Dtype  \n",
      "---  ------             --------------  -----  \n",
      " 0   sex                40907 non-null  float64\n",
      " 1   age                40910 non-null  int64  \n",
      " 2   hypertension       40910 non-null  int64  \n",
      " 3   heart_disease      40910 non-null  int64  \n",
      " 4   ever_married       40910 non-null  int64  \n",
      " 5   work_type          40910 non-null  int64  \n",
      " 6   Residence_type     40910 non-null  int64  \n",
      " 7   avg_glucose_level  40910 non-null  float64\n",
      " 8   bmi                40910 non-null  float64\n",
      " 9   smoking_status     40910 non-null  int64  \n",
      " 10  stroke             40910 non-null  int64  \n",
      "dtypes: float64(3), int64(8)\n",
      "memory usage: 3.4 MB\n"
     ]
    }
   ],
   "source": [
    "sourcedata.info()"
   ]
  },
  {
   "cell_type": "code",
   "execution_count": 5,
   "id": "0e7f6c8c",
   "metadata": {},
   "outputs": [
    {
     "data": {
      "text/html": [
       "<div>\n",
       "<style scoped>\n",
       "    .dataframe tbody tr th:only-of-type {\n",
       "        vertical-align: middle;\n",
       "    }\n",
       "\n",
       "    .dataframe tbody tr th {\n",
       "        vertical-align: top;\n",
       "    }\n",
       "\n",
       "    .dataframe thead th {\n",
       "        text-align: right;\n",
       "    }\n",
       "</style>\n",
       "<table border=\"1\" class=\"dataframe\">\n",
       "  <thead>\n",
       "    <tr style=\"text-align: right;\">\n",
       "      <th></th>\n",
       "      <th>sex</th>\n",
       "      <th>age</th>\n",
       "      <th>hypertension</th>\n",
       "      <th>heart_disease</th>\n",
       "      <th>ever_married</th>\n",
       "      <th>work_type</th>\n",
       "      <th>Residence_type</th>\n",
       "      <th>avg_glucose_level</th>\n",
       "      <th>bmi</th>\n",
       "      <th>smoking_status</th>\n",
       "      <th>stroke</th>\n",
       "    </tr>\n",
       "  </thead>\n",
       "  <tbody>\n",
       "    <tr>\n",
       "      <th>count</th>\n",
       "      <td>40907.000000</td>\n",
       "      <td>40910.000000</td>\n",
       "      <td>40910.000000</td>\n",
       "      <td>40910.000000</td>\n",
       "      <td>40910.000000</td>\n",
       "      <td>40910.000000</td>\n",
       "      <td>40910.000000</td>\n",
       "      <td>40910.000000</td>\n",
       "      <td>40910.000000</td>\n",
       "      <td>40910.000000</td>\n",
       "      <td>40910.000000</td>\n",
       "    </tr>\n",
       "    <tr>\n",
       "      <th>mean</th>\n",
       "      <td>0.555162</td>\n",
       "      <td>51.327255</td>\n",
       "      <td>0.213835</td>\n",
       "      <td>0.127719</td>\n",
       "      <td>0.821340</td>\n",
       "      <td>3.461134</td>\n",
       "      <td>0.514886</td>\n",
       "      <td>122.075901</td>\n",
       "      <td>30.406355</td>\n",
       "      <td>0.488609</td>\n",
       "      <td>0.500122</td>\n",
       "    </tr>\n",
       "    <tr>\n",
       "      <th>std</th>\n",
       "      <td>0.496954</td>\n",
       "      <td>21.623969</td>\n",
       "      <td>0.410017</td>\n",
       "      <td>0.333781</td>\n",
       "      <td>0.383072</td>\n",
       "      <td>0.780919</td>\n",
       "      <td>0.499784</td>\n",
       "      <td>57.561531</td>\n",
       "      <td>6.835072</td>\n",
       "      <td>0.499876</td>\n",
       "      <td>0.500006</td>\n",
       "    </tr>\n",
       "    <tr>\n",
       "      <th>min</th>\n",
       "      <td>0.000000</td>\n",
       "      <td>-9.000000</td>\n",
       "      <td>0.000000</td>\n",
       "      <td>0.000000</td>\n",
       "      <td>0.000000</td>\n",
       "      <td>0.000000</td>\n",
       "      <td>0.000000</td>\n",
       "      <td>55.120000</td>\n",
       "      <td>11.500000</td>\n",
       "      <td>0.000000</td>\n",
       "      <td>0.000000</td>\n",
       "    </tr>\n",
       "    <tr>\n",
       "      <th>25%</th>\n",
       "      <td>0.000000</td>\n",
       "      <td>35.000000</td>\n",
       "      <td>0.000000</td>\n",
       "      <td>0.000000</td>\n",
       "      <td>1.000000</td>\n",
       "      <td>3.000000</td>\n",
       "      <td>0.000000</td>\n",
       "      <td>78.750000</td>\n",
       "      <td>25.900000</td>\n",
       "      <td>0.000000</td>\n",
       "      <td>0.000000</td>\n",
       "    </tr>\n",
       "    <tr>\n",
       "      <th>50%</th>\n",
       "      <td>1.000000</td>\n",
       "      <td>52.000000</td>\n",
       "      <td>0.000000</td>\n",
       "      <td>0.000000</td>\n",
       "      <td>1.000000</td>\n",
       "      <td>4.000000</td>\n",
       "      <td>1.000000</td>\n",
       "      <td>97.920000</td>\n",
       "      <td>29.400000</td>\n",
       "      <td>0.000000</td>\n",
       "      <td>1.000000</td>\n",
       "    </tr>\n",
       "    <tr>\n",
       "      <th>75%</th>\n",
       "      <td>1.000000</td>\n",
       "      <td>68.000000</td>\n",
       "      <td>0.000000</td>\n",
       "      <td>0.000000</td>\n",
       "      <td>1.000000</td>\n",
       "      <td>4.000000</td>\n",
       "      <td>1.000000</td>\n",
       "      <td>167.590000</td>\n",
       "      <td>34.100000</td>\n",
       "      <td>1.000000</td>\n",
       "      <td>1.000000</td>\n",
       "    </tr>\n",
       "    <tr>\n",
       "      <th>max</th>\n",
       "      <td>1.000000</td>\n",
       "      <td>103.000000</td>\n",
       "      <td>1.000000</td>\n",
       "      <td>1.000000</td>\n",
       "      <td>1.000000</td>\n",
       "      <td>4.000000</td>\n",
       "      <td>1.000000</td>\n",
       "      <td>271.740000</td>\n",
       "      <td>92.000000</td>\n",
       "      <td>1.000000</td>\n",
       "      <td>1.000000</td>\n",
       "    </tr>\n",
       "  </tbody>\n",
       "</table>\n",
       "</div>"
      ],
      "text/plain": [
       "                sex           age  hypertension  heart_disease  ever_married  \\\n",
       "count  40907.000000  40910.000000  40910.000000   40910.000000  40910.000000   \n",
       "mean       0.555162     51.327255      0.213835       0.127719      0.821340   \n",
       "std        0.496954     21.623969      0.410017       0.333781      0.383072   \n",
       "min        0.000000     -9.000000      0.000000       0.000000      0.000000   \n",
       "25%        0.000000     35.000000      0.000000       0.000000      1.000000   \n",
       "50%        1.000000     52.000000      0.000000       0.000000      1.000000   \n",
       "75%        1.000000     68.000000      0.000000       0.000000      1.000000   \n",
       "max        1.000000    103.000000      1.000000       1.000000      1.000000   \n",
       "\n",
       "          work_type  Residence_type  avg_glucose_level           bmi  \\\n",
       "count  40910.000000    40910.000000       40910.000000  40910.000000   \n",
       "mean       3.461134        0.514886         122.075901     30.406355   \n",
       "std        0.780919        0.499784          57.561531      6.835072   \n",
       "min        0.000000        0.000000          55.120000     11.500000   \n",
       "25%        3.000000        0.000000          78.750000     25.900000   \n",
       "50%        4.000000        1.000000          97.920000     29.400000   \n",
       "75%        4.000000        1.000000         167.590000     34.100000   \n",
       "max        4.000000        1.000000         271.740000     92.000000   \n",
       "\n",
       "       smoking_status        stroke  \n",
       "count    40910.000000  40910.000000  \n",
       "mean         0.488609      0.500122  \n",
       "std          0.499876      0.500006  \n",
       "min          0.000000      0.000000  \n",
       "25%          0.000000      0.000000  \n",
       "50%          0.000000      1.000000  \n",
       "75%          1.000000      1.000000  \n",
       "max          1.000000      1.000000  "
      ]
     },
     "execution_count": 5,
     "metadata": {},
     "output_type": "execute_result"
    }
   ],
   "source": [
    "sourcedata.describe()"
   ]
  },
  {
   "cell_type": "markdown",
   "id": "921feae0",
   "metadata": {},
   "source": [
    "### Step 2: Check whether there are any NaN values in the csv file"
   ]
  },
  {
   "cell_type": "code",
   "execution_count": 6,
   "id": "53ec8d06",
   "metadata": {},
   "outputs": [
    {
     "data": {
      "text/plain": [
       "sex                  3\n",
       "age                  0\n",
       "hypertension         0\n",
       "heart_disease        0\n",
       "ever_married         0\n",
       "work_type            0\n",
       "Residence_type       0\n",
       "avg_glucose_level    0\n",
       "bmi                  0\n",
       "smoking_status       0\n",
       "stroke               0\n",
       "dtype: int64"
      ]
     },
     "execution_count": 6,
     "metadata": {},
     "output_type": "execute_result"
    }
   ],
   "source": [
    "#Count the number of NaN values in 'sex'\n",
    "sourcedata.isnull().sum()"
   ]
  },
  {
   "cell_type": "markdown",
   "id": "a68a022a",
   "metadata": {},
   "source": [
    "### Step 3: Remove the rows with NaN values "
   ]
  },
  {
   "cell_type": "code",
   "execution_count": 7,
   "id": "93b83cd1",
   "metadata": {},
   "outputs": [
    {
     "data": {
      "text/html": [
       "<div>\n",
       "<style scoped>\n",
       "    .dataframe tbody tr th:only-of-type {\n",
       "        vertical-align: middle;\n",
       "    }\n",
       "\n",
       "    .dataframe tbody tr th {\n",
       "        vertical-align: top;\n",
       "    }\n",
       "\n",
       "    .dataframe thead th {\n",
       "        text-align: right;\n",
       "    }\n",
       "</style>\n",
       "<table border=\"1\" class=\"dataframe\">\n",
       "  <thead>\n",
       "    <tr style=\"text-align: right;\">\n",
       "      <th></th>\n",
       "      <th>sex</th>\n",
       "      <th>age</th>\n",
       "      <th>hypertension</th>\n",
       "      <th>heart_disease</th>\n",
       "      <th>ever_married</th>\n",
       "      <th>work_type</th>\n",
       "      <th>Residence_type</th>\n",
       "      <th>avg_glucose_level</th>\n",
       "      <th>bmi</th>\n",
       "      <th>smoking_status</th>\n",
       "      <th>stroke</th>\n",
       "    </tr>\n",
       "  </thead>\n",
       "  <tbody>\n",
       "    <tr>\n",
       "      <th>0</th>\n",
       "      <td>1.0</td>\n",
       "      <td>63</td>\n",
       "      <td>0</td>\n",
       "      <td>1</td>\n",
       "      <td>1</td>\n",
       "      <td>4</td>\n",
       "      <td>1</td>\n",
       "      <td>228.69</td>\n",
       "      <td>36.6</td>\n",
       "      <td>1</td>\n",
       "      <td>1</td>\n",
       "    </tr>\n",
       "    <tr>\n",
       "      <th>1</th>\n",
       "      <td>1.0</td>\n",
       "      <td>42</td>\n",
       "      <td>0</td>\n",
       "      <td>1</td>\n",
       "      <td>1</td>\n",
       "      <td>4</td>\n",
       "      <td>0</td>\n",
       "      <td>105.92</td>\n",
       "      <td>32.5</td>\n",
       "      <td>0</td>\n",
       "      <td>1</td>\n",
       "    </tr>\n",
       "    <tr>\n",
       "      <th>2</th>\n",
       "      <td>0.0</td>\n",
       "      <td>61</td>\n",
       "      <td>0</td>\n",
       "      <td>0</td>\n",
       "      <td>1</td>\n",
       "      <td>4</td>\n",
       "      <td>1</td>\n",
       "      <td>171.23</td>\n",
       "      <td>34.4</td>\n",
       "      <td>1</td>\n",
       "      <td>1</td>\n",
       "    </tr>\n",
       "    <tr>\n",
       "      <th>3</th>\n",
       "      <td>1.0</td>\n",
       "      <td>41</td>\n",
       "      <td>1</td>\n",
       "      <td>0</td>\n",
       "      <td>1</td>\n",
       "      <td>3</td>\n",
       "      <td>0</td>\n",
       "      <td>174.12</td>\n",
       "      <td>24.0</td>\n",
       "      <td>0</td>\n",
       "      <td>1</td>\n",
       "    </tr>\n",
       "    <tr>\n",
       "      <th>4</th>\n",
       "      <td>1.0</td>\n",
       "      <td>85</td>\n",
       "      <td>0</td>\n",
       "      <td>0</td>\n",
       "      <td>1</td>\n",
       "      <td>4</td>\n",
       "      <td>1</td>\n",
       "      <td>186.21</td>\n",
       "      <td>29.0</td>\n",
       "      <td>1</td>\n",
       "      <td>1</td>\n",
       "    </tr>\n",
       "  </tbody>\n",
       "</table>\n",
       "</div>"
      ],
      "text/plain": [
       "   sex  age  hypertension  heart_disease  ever_married  work_type  \\\n",
       "0  1.0   63             0              1             1          4   \n",
       "1  1.0   42             0              1             1          4   \n",
       "2  0.0   61             0              0             1          4   \n",
       "3  1.0   41             1              0             1          3   \n",
       "4  1.0   85             0              0             1          4   \n",
       "\n",
       "   Residence_type  avg_glucose_level   bmi  smoking_status  stroke  \n",
       "0               1             228.69  36.6               1       1  \n",
       "1               0             105.92  32.5               0       1  \n",
       "2               1             171.23  34.4               1       1  \n",
       "3               0             174.12  24.0               0       1  \n",
       "4               1             186.21  29.0               1       1  "
      ]
     },
     "execution_count": 7,
     "metadata": {},
     "output_type": "execute_result"
    }
   ],
   "source": [
    "#Remove the NaN values in 'sex'\n",
    "sourcedata.dropna(subset=['sex'], inplace=True)\n",
    "sourcedata.head()"
   ]
  },
  {
   "cell_type": "markdown",
   "id": "45e1efad",
   "metadata": {},
   "source": [
    "### Step 4: Remove rows with negative age"
   ]
  },
  {
   "cell_type": "code",
   "execution_count": 8,
   "id": "de56660c",
   "metadata": {},
   "outputs": [],
   "source": [
    "# drop all rows with negative values\n",
    "sourcedata = sourcedata[sourcedata[\"age\"]>= 0].dropna()"
   ]
  },
  {
   "cell_type": "markdown",
   "id": "a142a326",
   "metadata": {},
   "source": [
    "### Step 5: Check to ensure there is no NaN value after data cleaning"
   ]
  },
  {
   "cell_type": "code",
   "execution_count": 9,
   "id": "a3724014",
   "metadata": {},
   "outputs": [
    {
     "data": {
      "text/plain": [
       "sex                  0\n",
       "age                  0\n",
       "hypertension         0\n",
       "heart_disease        0\n",
       "ever_married         0\n",
       "work_type            0\n",
       "Residence_type       0\n",
       "avg_glucose_level    0\n",
       "bmi                  0\n",
       "smoking_status       0\n",
       "stroke               0\n",
       "dtype: int64"
      ]
     },
     "execution_count": 9,
     "metadata": {},
     "output_type": "execute_result"
    }
   ],
   "source": [
    "#check to ensure the dataset does not contain any NaN values after data cleaning\n",
    "sourcedata.isnull().sum()"
   ]
  },
  {
   "cell_type": "markdown",
   "id": "6370cc02",
   "metadata": {},
   "source": [
    "### Step 6: Convert the data type to category "
   ]
  },
  {
   "cell_type": "code",
   "execution_count": 10,
   "id": "3c1e16a9",
   "metadata": {},
   "outputs": [],
   "source": [
    "sourcedata['sex']= sourcedata['sex'].astype('category')"
   ]
  },
  {
   "cell_type": "code",
   "execution_count": 11,
   "id": "98334074",
   "metadata": {},
   "outputs": [],
   "source": [
    "sourcedata['hypertension']= sourcedata['hypertension'].astype('category')"
   ]
  },
  {
   "cell_type": "code",
   "execution_count": 12,
   "id": "d4193687",
   "metadata": {},
   "outputs": [],
   "source": [
    "sourcedata['heart_disease']= sourcedata['heart_disease'].astype('category')"
   ]
  },
  {
   "cell_type": "code",
   "execution_count": 13,
   "id": "e5dc3610",
   "metadata": {},
   "outputs": [],
   "source": [
    "sourcedata['ever_married']= sourcedata['ever_married'].astype('category')"
   ]
  },
  {
   "cell_type": "code",
   "execution_count": 14,
   "id": "8ae1fb5d",
   "metadata": {},
   "outputs": [],
   "source": [
    "sourcedata['work_type']= sourcedata['work_type'].astype('category')"
   ]
  },
  {
   "cell_type": "code",
   "execution_count": 15,
   "id": "476db748",
   "metadata": {},
   "outputs": [],
   "source": [
    "sourcedata['Residence_type']= sourcedata['Residence_type'].astype('category')"
   ]
  },
  {
   "cell_type": "code",
   "execution_count": 16,
   "id": "de9b2514",
   "metadata": {},
   "outputs": [],
   "source": [
    "sourcedata['smoking_status']= sourcedata['smoking_status'].astype('category')"
   ]
  },
  {
   "cell_type": "code",
   "execution_count": 17,
   "id": "765a43db",
   "metadata": {},
   "outputs": [],
   "source": [
    "sourcedata['stroke']= sourcedata['stroke'].astype('category')"
   ]
  },
  {
   "cell_type": "markdown",
   "id": "67d96d10",
   "metadata": {},
   "source": [
    "### Step 7: Export the cleaned dataset "
   ]
  },
  {
   "cell_type": "code",
   "execution_count": 18,
   "id": "c05301b8",
   "metadata": {},
   "outputs": [],
   "source": [
    "sourcedata.to_csv('cleaned_data.csv', index=False)"
   ]
  }
 ],
 "metadata": {
  "kernelspec": {
   "display_name": "Python 3 (ipykernel)",
   "language": "python",
   "name": "python3"
  },
  "language_info": {
   "codemirror_mode": {
    "name": "ipython",
    "version": 3
   },
   "file_extension": ".py",
   "mimetype": "text/x-python",
   "name": "python",
   "nbconvert_exporter": "python",
   "pygments_lexer": "ipython3",
   "version": "3.9.13"
  }
 },
 "nbformat": 4,
 "nbformat_minor": 5
}
